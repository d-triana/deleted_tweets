{
 "cells": [
  {
   "cell_type": "markdown",
   "id": "24a8939b-5934-442e-b9e6-300d16d53df5",
   "metadata": {
    "tags": []
   },
   "source": [
    "# 3. Merge raw dataframes"
   ]
  },
  {
   "cell_type": "markdown",
   "id": "dbda53b4-31ae-4d23-8697-21234f1ad22f",
   "metadata": {},
   "source": [
    "**In this step, the dataframes from step 1 are combined with the error column of the rehydrated dataframes of step 2. Thereby each tweet is annotated as missing or not.**"
   ]
  },
  {
   "cell_type": "markdown",
   "id": "01962322-35c5-4475-80d0-3cca27b7b180",
   "metadata": {},
   "source": [
    "## Libraries"
   ]
  },
  {
   "cell_type": "code",
   "execution_count": 1,
   "id": "3834151c-b101-4933-9060-d9bbd494b301",
   "metadata": {
    "jupyter": {
     "outputs_hidden": true
    },
    "tags": []
   },
   "outputs": [
    {
     "name": "stderr",
     "output_type": "stream",
     "text": [
      "── Attaching packages ───────────────────────────────────────────────────────────────────────── tidyverse 1.3.1 ──\n",
      "✔ ggplot2 3.3.5     ✔ purrr   0.3.4\n",
      "✔ tibble  3.1.6     ✔ dplyr   1.0.8\n",
      "✔ tidyr   1.2.0     ✔ stringr 1.4.0\n",
      "✔ readr   2.1.2     ✔ forcats 0.5.1\n",
      "── Conflicts ──────────────────────────────────────────────────────────────────────────── tidyverse_conflicts() ──\n",
      "✖ dplyr::filter() masks stats::filter()\n",
      "✖ dplyr::lag()    masks stats::lag()\n"
     ]
    }
   ],
   "source": [
    "library(tidyverse)"
   ]
  },
  {
   "cell_type": "markdown",
   "id": "401e25e8-716a-4cc9-9b57-df82c50e99a0",
   "metadata": {},
   "source": [
    "## Parameters"
   ]
  },
  {
   "cell_type": "code",
   "execution_count": 2,
   "id": "cc996ace-1bd4-4059-aad2-f15043adee78",
   "metadata": {},
   "outputs": [],
   "source": [
    "# store list of userids (numeric type!) here\n",
    "userlist <- list(36327895, 25816024, 21788339, 136266976,999)\n",
    "\n",
    "# directory in which the dataframe from MongoDB are stored\n",
    "# only change if a the default was changed in step 1\n",
    "mongo_folder <- \"data/MongoDB_dataframes/\" \n",
    "\n",
    "# directory in which the rehydrated dataframes are stored\n",
    "# only change if a the default was changed in step 2\n",
    "twitter_folder <- \"data/MongoDB_rehydrated_dataframes/\""
   ]
  },
  {
   "cell_type": "markdown",
   "id": "ef5ab98f-a30f-4486-a983-6d7d7e28ca67",
   "metadata": {},
   "source": [
    "## Functions"
   ]
  },
  {
   "cell_type": "markdown",
   "id": "a9abbf7a-51d7-4d35-97b4-927ef6214483",
   "metadata": {},
   "source": [
    "### merge_error_column\n",
    "- This function merges the error column and the reply column of the rehydrated dataframe with the mongoDB dataframe"
   ]
  },
  {
   "cell_type": "code",
   "execution_count": 3,
   "id": "8642c3c9-1104-4b47-b961-dc508b0b5b89",
   "metadata": {},
   "outputs": [],
   "source": [
    "merge_error_column <- function(userid, mongo_folder, twitter_folder){\n",
    "    \n",
    "    if(!file.exists(paste0(mongo_folder, userid, \".rds\"))){\n",
    "        return (NULL)\n",
    "        \n",
    "    }else{\n",
    "        \n",
    "        mtype <- readRDS(paste0(mongo_folder, userid, \".rds\")) %>% \n",
    "            tidyr::unnest(user, names_repair = \"unique\") %>%\n",
    "            rename(tweet_id = `_id`, user_id = id) %>% \n",
    "            mutate(tweet_id = as.character(tweet_id))\n",
    "        \n",
    "        rawtwitter <- readRDS(paste0(twitter_folder, userid, \".rds\")) %>% \n",
    "            rename(tweet_id = id)\n",
    "        \n",
    "        if(\"in_reply_to_user_id\" %in% colnames(rawtwitter)){\n",
    "            etype <- rawtwitter %>% \n",
    "                select(tweet_id, error, in_reply_to_user_id)\n",
    "        }else{\n",
    "            etype <- rawtwitter %>% \n",
    "                select(tweet_id, error) %>% \n",
    "                mutate(in_reply_to_user_id = NA)        \n",
    "        }\n",
    "        \n",
    "        res <- merge(mtype, etype, by = \"tweet_id\", all.x = TRUE)\n",
    "    }\n",
    "    return(res)\n",
    "}"
   ]
  },
  {
   "cell_type": "markdown",
   "id": "c58da3e9-07a8-4b0d-ae3d-922ce5a1f476",
   "metadata": {},
   "source": [
    "### save_dfs()\n",
    "- This function creates the final dataframes for all users and stores them in the destination_folder if it is"
   ]
  },
  {
   "cell_type": "code",
   "execution_count": 4,
   "id": "1d134ef9-fa4b-4bc6-912a-0f5c6ef2a585",
   "metadata": {},
   "outputs": [],
   "source": [
    "save_dfs <- function(userlist, mongo_folder, twitter_folder, destination_folder = NULL){\n",
    "    \n",
    "    # destination specified -> destination is created\n",
    "    if(!is.null(destination_folder)){\n",
    "        \n",
    "        if(!dir.exists(destination_folder)){  \n",
    "            dir.create(destination_folder, recursive = TRUE)\n",
    "        }\n",
    "    \n",
    "    # otherwise a default directory is created\n",
    "    } else{\n",
    "        \n",
    "        if(!dir.exists(\"data/Merged_dataframes/\")){  \n",
    "            dir.create(\"data/Merged_dataframes/\", recursive = TRUE)\n",
    "        }\n",
    "        \n",
    "        destination_folder <- \"data/Merged_dataframes/\"\n",
    "    }\n",
    "    \n",
    "    for(userid in userlist){\n",
    "        \n",
    "        df <- merge_error_column(userid, mongo_folder, twitter_folder)\n",
    "        \n",
    "        if(!is.null(df)){ \n",
    "            \n",
    "            result <- df\n",
    "            \n",
    "            saveRDS(result, file = paste0(destination_folder, userid, \".rds\"))\n",
    "            \n",
    "        }else {next}    \n",
    "    \n",
    "    }\n",
    "    \n",
    "    return(\"SUCCESS\")\n",
    "}"
   ]
  },
  {
   "cell_type": "markdown",
   "id": "858aceac-acaa-435f-ad8d-b48ed5c5341f",
   "metadata": {},
   "source": [
    "## Run"
   ]
  },
  {
   "cell_type": "code",
   "execution_count": 5,
   "id": "7240f179-2b82-47c4-af56-318735b3a260",
   "metadata": {},
   "outputs": [
    {
     "data": {
      "text/html": [
       "'SUCCESS'"
      ],
      "text/latex": [
       "'SUCCESS'"
      ],
      "text/markdown": [
       "'SUCCESS'"
      ],
      "text/plain": [
       "[1] \"SUCCESS\""
      ]
     },
     "metadata": {},
     "output_type": "display_data"
    }
   ],
   "source": [
    "save_dfs(userlist, mongo_folder, twitter_folder, destination_folder = \"data/Merged_dataframes/\")"
   ]
  }
 ],
 "metadata": {
  "kernelspec": {
   "display_name": "R",
   "language": "R",
   "name": "ir"
  },
  "language_info": {
   "codemirror_mode": "r",
   "file_extension": ".r",
   "mimetype": "text/x-r-source",
   "name": "R",
   "pygments_lexer": "r",
   "version": "3.6.1"
  }
 },
 "nbformat": 4,
 "nbformat_minor": 5
}
