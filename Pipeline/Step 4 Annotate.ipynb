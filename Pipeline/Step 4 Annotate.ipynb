{
 "cells": [
  {
   "cell_type": "markdown",
   "id": "9a8bda65-eaec-4052-bd8c-4aed7fd1a209",
   "metadata": {},
   "source": [
    "# 4. Clean and annotate dataframes"
   ]
  },
  {
   "cell_type": "markdown",
   "id": "756c45d7-1a2d-472a-a731-904e1a7caa57",
   "metadata": {},
   "source": [
    "**In this step, the merged dataframes are annotated with a set of flags (i.a. typos, replies, tweet properties).**"
   ]
  },
  {
   "cell_type": "markdown",
   "id": "6d169d07-9617-43ac-84b0-902d2b259312",
   "metadata": {},
   "source": [
    "## Libraries"
   ]
  },
  {
   "cell_type": "code",
   "execution_count": null,
   "id": "8886e92d-ea08-4527-b4f8-8ef07b43685d",
   "metadata": {
    "tags": []
   },
   "outputs": [],
   "source": [
    "library(tidyverse)\n",
    "library(httr)\n",
    "library(jsonlite)\n",
    "library(stringdist)"
   ]
  },
  {
   "cell_type": "markdown",
   "id": "6ced6059-4451-4e44-8a1b-4e9e83d768f7",
   "metadata": {},
   "source": [
    "## Parameters"
   ]
  },
  {
   "cell_type": "code",
   "execution_count": null,
   "id": "8a8a0656-4e7b-49d6-b79f-7cbe086f0220",
   "metadata": {},
   "outputs": [],
   "source": [
    "# Insert twitter bearer token here\n",
    "twitter_token <- \n",
    "\n",
    "# directory in which the merged dataframes are stored\n",
    "# only change if a the default was changed in step 3\n",
    "merged_folder <- \"Merged dataframes/\" \n",
    "\n",
    "# disable scientific notation for long integers\n",
    "options(scipen = 999)"
   ]
  },
  {
   "cell_type": "markdown",
   "id": "51684460-7e8f-4159-98a5-9ef2e171b97d",
   "metadata": {
    "tags": []
   },
   "source": [
    "## Typo Detection"
   ]
  },
  {
   "cell_type": "markdown",
   "id": "087ce049-3c32-4168-936d-de88f77d4c40",
   "metadata": {},
   "source": [
    "### add_distance_columns_save()\n",
    "- Here, a list of dataframes stored in the merged folder is created, each file is read and arranged by creation date\n",
    "- Shifted text columns are created (depth 1-3) and the levenshtein distance is calculated for each text/shifted text pair\n",
    "- The file is stored in a new folder (merged_distance)"
   ]
  },
  {
   "cell_type": "code",
   "execution_count": null,
   "id": "deb69a90-a498-435a-bea1-1bb633d8cec8",
   "metadata": {},
   "outputs": [],
   "source": [
    "add_distance_columns_save <- function(merged_folder){\n",
    "    \n",
    "    # default folder for the dataframes with distance column, can be changed if needed\n",
    "    destination_folder <- \"Merged with distance/\"\n",
    "    \n",
    "    if(!dir.exists(destination_folder)){  \n",
    "            dir.create(destination_folder, recursive = TRUE)\n",
    "        }\n",
    "    \n",
    "    # create a list of files in merged_folder\n",
    "    df_list <- list.files(path = merged_folder, include.dirs = TRUE)\n",
    "    \n",
    "    for (file in df_list){\n",
    "        \n",
    "        df <- readRDS(file = paste0(merged_folder, file)) %>% \n",
    "        arrange(createdAt) %>% #arrange by date!\n",
    "        mutate(lead1 = lead(text, n=1),\n",
    "               lead2 = lead(text, n=2),\n",
    "               lead3 = lead(text, n=3),\n",
    "               lead1_dist = stringdist(text, lead1, method = \"lv\"),\n",
    "               lead2_dist = stringdist(text, lead2, method = \"lv\"),\n",
    "               lead3_dist = stringdist(text, lead3, method = \"lv\")\n",
    "              ) %>%\n",
    "        # shifted columns are removed\n",
    "        select(-lead1, -lead2, -lead3)\n",
    "        \n",
    "    # file is saved    \n",
    "    saveRDS(df, file = paste0(destination_folder, file))\n",
    "    \n",
    "    }\n",
    "\n",
    "return(\"SUCCESS\")\n",
    "}\n",
    "\n",
    "# Run function\n",
    "add_distance_columns_save(merged_folder)"
   ]
  },
  {
   "cell_type": "markdown",
   "id": "b833cd68-f163-41be-8663-b0a19c25b3d9",
   "metadata": {},
   "source": [
    "## Finalize dataframe"
   ]
  },
  {
   "cell_type": "markdown",
   "id": "2a25bb97-a5e8-4642-b08b-f4ef6631f431",
   "metadata": {},
   "source": [
    "### Create long dataframe\n",
    "- Read each dataframe of user, bind to long dataframe"
   ]
  },
  {
   "cell_type": "code",
   "execution_count": null,
   "id": "02783ff5-0585-4356-a820-18f57643c65f",
   "metadata": {
    "scrolled": true,
    "tags": []
   },
   "outputs": [],
   "source": [
    "df_list <- list.files(path = \"Merged with distance/\", include.dirs = TRUE)\n",
    "length(df_list)\n",
    "\n",
    "adata <- map_df(df_list, function(x){\n",
    "    \n",
    "    res <- readRDS(file = paste0(\"Merged with distance/\", x))\n",
    "    \n",
    "    return (res)\n",
    "})\n",
    "\n",
    "glimpse(adata)"
   ]
  },
  {
   "cell_type": "markdown",
   "id": "8ae24c00-369b-4cac-8c2f-5d62fa59d129",
   "metadata": {
    "tags": []
   },
   "source": [
    "### Create missing column\n",
    "- Simple binary column to flag missing tweets"
   ]
  },
  {
   "cell_type": "code",
   "execution_count": null,
   "id": "50a12d0b-76db-401c-bf83-fd88d152da7a",
   "metadata": {
    "tags": []
   },
   "outputs": [],
   "source": [
    "bdata <- adata %>% mutate(missing = as.integer(ifelse(!(is.na(error)),1,0)))\n",
    "glimpse(bdata)"
   ]
  },
  {
   "cell_type": "markdown",
   "id": "fa569464",
   "metadata": {},
   "source": [
    "### Create isreply column\n",
    "- Simple binary column to flag reply tweets"
   ]
  },
  {
   "cell_type": "code",
   "execution_count": null,
   "id": "0db9fb63",
   "metadata": {},
   "outputs": [],
   "source": [
    "cdata <- bdata %>% mutate(isreply = as.integer(ifelse(!is.na(in_reply_to_user_id), 1, 0)))\n",
    "glimpse(cdata)"
   ]
  },
  {
   "cell_type": "markdown",
   "id": "5890501c-262d-48ea-95ec-6815fd8151b8",
   "metadata": {},
   "source": [
    "### Create typo column\n",
    "- Almuhimedi (2013) propose an edit distance of 5"
   ]
  },
  {
   "cell_type": "code",
   "execution_count": null,
   "id": "b655fbcc-2b91-437a-b456-cf319cd98a90",
   "metadata": {},
   "outputs": [],
   "source": [
    "ddata <- cdata %>% \n",
    "    mutate(is_typo = ifelse(missing == 1 & (lead1_dist <= 5 | lead2_dist <= 5 | lead3_dist <= 5) == TRUE, 1, 0))\n",
    "\n",
    "glimpse(ddata)"
   ]
  },
  {
   "cell_type": "markdown",
   "id": "ed05c723-4f1e-44d1-aa32-24f40f58d91e",
   "metadata": {},
   "source": [
    "### Categorization of usage behaviour"
   ]
  },
  {
   "cell_type": "code",
   "execution_count": null,
   "id": "92f9b9a7-f20c-44e8-8a4e-dd1fed0d49d2",
   "metadata": {
    "tags": []
   },
   "outputs": [],
   "source": [
    "### Usage\n",
    "usage <- ddata %>% group_by(user_id) %>% summarise(usage = case_when(n() >= 1000 ~ \"heavy_user\",\n",
    "                                                                     n() >= 100 ~ \"frequent_user\",\n",
    "                                                                     n() >= 10 ~ \"light_user\",\n",
    "                                                                     n() < 10 ~ \"inactive_user\"))\n",
    "\n",
    "### Deletions\n",
    "deletions <- ddata %>% group_by(user_id) %>% \n",
    "    summarise(deletion_behaviour = case_when(sum(missing == 1)/n() == 1 ~ \"full_deleter\",\n",
    "                                             sum(missing == 1)/n() == 0 ~ \"non_deleter\",\n",
    "                                             sum(missing == 1)/n() >= 0.75 ~ \"heavy_deleter\",\n",
    "                                             sum(missing == 1)/n() >= 0.5 ~ \"selective_keeper\",\n",
    "                                             sum(missing == 1)/n() < 0.5 ~ \"selective_deleter\"))\n",
    "\n",
    "### Merge with ddata\n",
    "tempdata <- merge(ddata, usage, by = \"user_id\")\n",
    "edata <- merge(tempdata, deletions, by = \"user_id\")\n",
    "glimpse(edata)"
   ]
  },
  {
   "cell_type": "markdown",
   "id": "0b0d88a3-0329-4927-bd12-6497addd646f",
   "metadata": {
    "tags": []
   },
   "source": [
    "### Categorization of tweets\n",
    "- Typos, hashtags, mentions, links, retweet\n",
    "- Typo if tweet was deleted and levenshtein distance for next, second next, third next is <=5"
   ]
  },
  {
   "cell_type": "code",
   "execution_count": null,
   "id": "a65b6022-3a73-4f9e-996b-e5e4ce5546b1",
   "metadata": {
    "tags": []
   },
   "outputs": [],
   "source": [
    "fdata <- edata %>% mutate(is_typo = ifelse(missing == 1 & (lead1_dist <= 5 | lead2_dist <= 5 | lead3_dist <= 5) == TRUE, 1, 0),\n",
    "                          has_hashtag = ifelse(str_detect(text, \"#[a-z0-9_A-Z-]+\") == TRUE, 1, 0),\n",
    "                          has_mention = ifelse(str_detect(text, \"@([a-zA-Z0-9_-]+)\") == TRUE, 1, 0),\n",
    "                          has_link = ifelse(str_detect(text, \"https:\") == TRUE, 1, 0),\n",
    "                          is_retweet = ifelse(str_detect(text, \"RT @\") == TRUE, 1, 0),\n",
    "                         )\n",
    "glimpse(fdata)"
   ]
  },
  {
   "cell_type": "code",
   "execution_count": null,
   "id": "3057bbfc-e682-45c5-a576-098bfb25ac60",
   "metadata": {},
   "outputs": [],
   "source": [
    "# save fdata -> Final dataframe\n",
    "saveRDS(fdata, \"result_df.rds\")"
   ]
  }
 ],
 "metadata": {
  "kernelspec": {
   "display_name": "R",
   "language": "R",
   "name": "ir"
  },
  "language_info": {
   "codemirror_mode": "r",
   "file_extension": ".r",
   "mimetype": "text/x-r-source",
   "name": "R",
   "pygments_lexer": "r",
   "version": "3.6.1"
  }
 },
 "nbformat": 4,
 "nbformat_minor": 5
}
