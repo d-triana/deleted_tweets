{
 "cells": [
  {
   "cell_type": "markdown",
   "id": "9a8bda65-eaec-4052-bd8c-4aed7fd1a209",
   "metadata": {},
   "source": [
    "# 4. Clean and annotate dataframes"
   ]
  },
  {
   "cell_type": "markdown",
   "id": "756c45d7-1a2d-472a-a731-904e1a7caa57",
   "metadata": {},
   "source": [
    "**In this step, the merged dataframes are annotated with a set of flags (i.a. typos, replies, tweet properties).**"
   ]
  },
  {
   "cell_type": "markdown",
   "id": "6d169d07-9617-43ac-84b0-902d2b259312",
   "metadata": {},
   "source": [
    "## Libraries"
   ]
  },
  {
   "cell_type": "code",
   "execution_count": 1,
   "id": "8886e92d-ea08-4527-b4f8-8ef07b43685d",
   "metadata": {
    "tags": []
   },
   "outputs": [
    {
     "name": "stderr",
     "output_type": "stream",
     "text": [
      "── Attaching packages ───────────────────────────────────────────────────────────────────────── tidyverse 1.3.1 ──\n",
      "✔ ggplot2 3.3.5     ✔ purrr   0.3.4\n",
      "✔ tibble  3.1.6     ✔ dplyr   1.0.8\n",
      "✔ tidyr   1.2.0     ✔ stringr 1.4.0\n",
      "✔ readr   2.1.2     ✔ forcats 0.5.1\n",
      "── Conflicts ──────────────────────────────────────────────────────────────────────────── tidyverse_conflicts() ──\n",
      "✖ dplyr::filter() masks stats::filter()\n",
      "✖ dplyr::lag()    masks stats::lag()\n",
      "\n",
      "Attaching package: ‘jsonlite’\n",
      "\n",
      "The following object is masked from ‘package:purrr’:\n",
      "\n",
      "    flatten\n",
      "\n",
      "\n",
      "Attaching package: ‘stringdist’\n",
      "\n",
      "The following object is masked from ‘package:tidyr’:\n",
      "\n",
      "    extract\n",
      "\n"
     ]
    }
   ],
   "source": [
    "library(tidyverse)\n",
    "library(httr)\n",
    "library(jsonlite)\n",
    "library(stringdist)"
   ]
  },
  {
   "cell_type": "markdown",
   "id": "6ced6059-4451-4e44-8a1b-4e9e83d768f7",
   "metadata": {},
   "source": [
    "## Parameters"
   ]
  },
  {
   "cell_type": "code",
   "execution_count": 2,
   "id": "8a8a0656-4e7b-49d6-b79f-7cbe086f0220",
   "metadata": {},
   "outputs": [],
   "source": [
    "\n",
    "# directory in which the merged dataframes are stored\n",
    "# only change if a the default was changed in step 3\n",
    "merged_folder <- \"data/Merged_dataframes/\" \n",
    "\n",
    "# destination folder where dataframes will be stored\n",
    "destination_folder <- \"data/Merged_with_distance/\"\n",
    "\n",
    "# disable scientific notation for long integers\n",
    "options(scipen = 999)"
   ]
  },
  {
   "cell_type": "markdown",
   "id": "51684460-7e8f-4159-98a5-9ef2e171b97d",
   "metadata": {
    "tags": []
   },
   "source": [
    "## Typo Detection"
   ]
  },
  {
   "cell_type": "markdown",
   "id": "087ce049-3c32-4168-936d-de88f77d4c40",
   "metadata": {},
   "source": [
    "### add_distance_columns_save()\n",
    "- Here, a list of dataframes stored in the merged folder is created, each file is read and arranged by creation date\n",
    "- Shifted text columns are created (depth 1-3) and the levenshtein distance is calculated for each text/shifted text pair\n",
    "- The file is stored in a new folder (merged_distance)"
   ]
  },
  {
   "cell_type": "code",
   "execution_count": 3,
   "id": "deb69a90-a498-435a-bea1-1bb633d8cec8",
   "metadata": {},
   "outputs": [
    {
     "data": {
      "text/html": [
       "'SUCCESS'"
      ],
      "text/latex": [
       "'SUCCESS'"
      ],
      "text/markdown": [
       "'SUCCESS'"
      ],
      "text/plain": [
       "[1] \"SUCCESS\""
      ]
     },
     "metadata": {},
     "output_type": "display_data"
    }
   ],
   "source": [
    "add_distance_columns_save <- function(merged_folder, destination_folder){\n",
    "    \n",
    "    \n",
    "    if(!dir.exists(destination_folder)){  \n",
    "            dir.create(destination_folder, recursive = TRUE)\n",
    "        }\n",
    "    \n",
    "    # create a list of files in merged_folder\n",
    "    df_list <- list.files(path = merged_folder, include.dirs = TRUE)\n",
    "    \n",
    "    for (file in df_list){\n",
    "        \n",
    "        df <- readRDS(file = paste0(merged_folder, file)) %>% \n",
    "        arrange(createdAt) %>% #arrange by date!\n",
    "        mutate(lead1 = lead(text, n=1),\n",
    "               lead2 = lead(text, n=2),\n",
    "               lead3 = lead(text, n=3),\n",
    "               lead1_dist = stringdist(text, lead1, method = \"lv\"),\n",
    "               lead2_dist = stringdist(text, lead2, method = \"lv\"),\n",
    "               lead3_dist = stringdist(text, lead3, method = \"lv\")\n",
    "              ) %>%\n",
    "        # shifted columns are removed\n",
    "        select(-lead1, -lead2, -lead3)\n",
    "        \n",
    "        # file is saved    \n",
    "        saveRDS(df, file = paste0(destination_folder, file))\n",
    "    \n",
    "    }\n",
    "\n",
    "return(\"SUCCESS\")\n",
    "}\n",
    "\n",
    "# Run function\n",
    "add_distance_columns_save(merged_folder, destination_folder)"
   ]
  },
  {
   "cell_type": "markdown",
   "id": "b833cd68-f163-41be-8663-b0a19c25b3d9",
   "metadata": {},
   "source": [
    "## Finalize dataframe"
   ]
  },
  {
   "cell_type": "markdown",
   "id": "2a25bb97-a5e8-4642-b08b-f4ef6631f431",
   "metadata": {},
   "source": [
    "### Create long dataframe\n",
    "- Read each dataframe of user, bind to long dataframe"
   ]
  },
  {
   "cell_type": "code",
   "execution_count": 4,
   "id": "02783ff5-0585-4356-a820-18f57643c65f",
   "metadata": {
    "scrolled": true,
    "tags": []
   },
   "outputs": [
    {
     "data": {
      "text/html": [
       "4"
      ],
      "text/latex": [
       "4"
      ],
      "text/markdown": [
       "4"
      ],
      "text/plain": [
       "[1] 4"
      ]
     },
     "metadata": {},
     "output_type": "display_data"
    },
    {
     "name": "stdout",
     "output_type": "stream",
     "text": [
      "Rows: 10\n",
      "Columns: 14\n",
      "$ tweet_id            <chr> \"911716024331980800\", \"911716036184989696\", \"91170…\n",
      "$ createdAt           <dttm> 2017-09-24 00:16:53, 2017-09-24 00:16:56, 2017-09…\n",
      "$ possiblySensitive   <lgl> FALSE, FALSE, FALSE, FALSE, FALSE, FALSE, FALSE, F…\n",
      "$ source              <chr> \"<a href=\\\"http://twitter.com/download/android\\\" r…\n",
      "$ text                <chr> \"RT @linke_sh: Ab morgen, 8 Uhr, gilt es: @dieLink…\n",
      "$ isRetweet           <lgl> TRUE, FALSE, FALSE, FALSE, FALSE, TRUE, TRUE, TRUE…\n",
      "$ user_id             <dbl> 136266976, 136266976, 21788339, 21788339, 25816024…\n",
      "$ name                <chr> \"Lorenz Gösta Beutin\", \"Lorenz Gösta Beutin\", \"Chr…\n",
      "$ screenName          <chr> \"lgbeutin\", \"lgbeutin\", \"crmkoch\", \"crmkoch\", \"Gab…\n",
      "$ error               <chr> \"Not Found Error\", \"Not Found Error\", \"Not Found E…\n",
      "$ in_reply_to_user_id <lgl> NA, NA, NA, NA, NA, NA, NA, NA, NA, NA\n",
      "$ lead1_dist          <dbl> 58, NA, 91, NA, NA, 112, 122, 121, 117, NA\n",
      "$ lead2_dist          <dbl> NA, NA, NA, NA, NA, 115, 119, 111, NA, NA\n",
      "$ lead3_dist          <dbl> NA, NA, NA, NA, NA, 119, 113, NA, NA, NA\n"
     ]
    }
   ],
   "source": [
    "df_list <- list.files(path = destination_folder, include.dirs = TRUE)\n",
    "length(df_list)\n",
    "\n",
    "adata <- map_df(df_list, function(x){\n",
    "    \n",
    "    res <- readRDS(file = paste0(destination_folder, x))\n",
    "    \n",
    "    return (res)\n",
    "})\n",
    "\n",
    "glimpse(adata)"
   ]
  },
  {
   "cell_type": "markdown",
   "id": "8ae24c00-369b-4cac-8c2f-5d62fa59d129",
   "metadata": {
    "tags": []
   },
   "source": [
    "### Create missing column\n",
    "- Simple binary column to flag missing tweets"
   ]
  },
  {
   "cell_type": "code",
   "execution_count": 5,
   "id": "50a12d0b-76db-401c-bf83-fd88d152da7a",
   "metadata": {
    "tags": []
   },
   "outputs": [
    {
     "name": "stdout",
     "output_type": "stream",
     "text": [
      "Rows: 10\n",
      "Columns: 15\n",
      "$ tweet_id            <chr> \"911716024331980800\", \"911716036184989696\", \"91170…\n",
      "$ createdAt           <dttm> 2017-09-24 00:16:53, 2017-09-24 00:16:56, 2017-09…\n",
      "$ possiblySensitive   <lgl> FALSE, FALSE, FALSE, FALSE, FALSE, FALSE, FALSE, F…\n",
      "$ source              <chr> \"<a href=\\\"http://twitter.com/download/android\\\" r…\n",
      "$ text                <chr> \"RT @linke_sh: Ab morgen, 8 Uhr, gilt es: @dieLink…\n",
      "$ isRetweet           <lgl> TRUE, FALSE, FALSE, FALSE, FALSE, TRUE, TRUE, TRUE…\n",
      "$ user_id             <dbl> 136266976, 136266976, 21788339, 21788339, 25816024…\n",
      "$ name                <chr> \"Lorenz Gösta Beutin\", \"Lorenz Gösta Beutin\", \"Chr…\n",
      "$ screenName          <chr> \"lgbeutin\", \"lgbeutin\", \"crmkoch\", \"crmkoch\", \"Gab…\n",
      "$ error               <chr> \"Not Found Error\", \"Not Found Error\", \"Not Found E…\n",
      "$ in_reply_to_user_id <lgl> NA, NA, NA, NA, NA, NA, NA, NA, NA, NA\n",
      "$ lead1_dist          <dbl> 58, NA, 91, NA, NA, 112, 122, 121, 117, NA\n",
      "$ lead2_dist          <dbl> NA, NA, NA, NA, NA, 115, 119, 111, NA, NA\n",
      "$ lead3_dist          <dbl> NA, NA, NA, NA, NA, 119, 113, NA, NA, NA\n",
      "$ missing             <int> 1, 1, 1, 0, 1, 1, 0, 1, 1, 1\n"
     ]
    }
   ],
   "source": [
    "bdata <- adata %>% mutate(missing = as.integer(ifelse(!(is.na(error)),1,0)))\n",
    "glimpse(bdata)"
   ]
  },
  {
   "cell_type": "markdown",
   "id": "fa569464",
   "metadata": {},
   "source": [
    "### Create isreply column\n",
    "- Simple binary column to flag reply tweets"
   ]
  },
  {
   "cell_type": "code",
   "execution_count": 6,
   "id": "0db9fb63",
   "metadata": {},
   "outputs": [
    {
     "name": "stdout",
     "output_type": "stream",
     "text": [
      "Rows: 10\n",
      "Columns: 16\n",
      "$ tweet_id            <chr> \"911716024331980800\", \"911716036184989696\", \"91170…\n",
      "$ createdAt           <dttm> 2017-09-24 00:16:53, 2017-09-24 00:16:56, 2017-09…\n",
      "$ possiblySensitive   <lgl> FALSE, FALSE, FALSE, FALSE, FALSE, FALSE, FALSE, F…\n",
      "$ source              <chr> \"<a href=\\\"http://twitter.com/download/android\\\" r…\n",
      "$ text                <chr> \"RT @linke_sh: Ab morgen, 8 Uhr, gilt es: @dieLink…\n",
      "$ isRetweet           <lgl> TRUE, FALSE, FALSE, FALSE, FALSE, TRUE, TRUE, TRUE…\n",
      "$ user_id             <dbl> 136266976, 136266976, 21788339, 21788339, 25816024…\n",
      "$ name                <chr> \"Lorenz Gösta Beutin\", \"Lorenz Gösta Beutin\", \"Chr…\n",
      "$ screenName          <chr> \"lgbeutin\", \"lgbeutin\", \"crmkoch\", \"crmkoch\", \"Gab…\n",
      "$ error               <chr> \"Not Found Error\", \"Not Found Error\", \"Not Found E…\n",
      "$ in_reply_to_user_id <lgl> NA, NA, NA, NA, NA, NA, NA, NA, NA, NA\n",
      "$ lead1_dist          <dbl> 58, NA, 91, NA, NA, 112, 122, 121, 117, NA\n",
      "$ lead2_dist          <dbl> NA, NA, NA, NA, NA, 115, 119, 111, NA, NA\n",
      "$ lead3_dist          <dbl> NA, NA, NA, NA, NA, 119, 113, NA, NA, NA\n",
      "$ missing             <int> 1, 1, 1, 0, 1, 1, 0, 1, 1, 1\n",
      "$ isreply             <int> 0, 0, 0, 0, 0, 0, 0, 0, 0, 0\n"
     ]
    }
   ],
   "source": [
    "cdata <- bdata %>% mutate(isreply = as.integer(ifelse(!is.na(in_reply_to_user_id), 1, 0)))\n",
    "glimpse(cdata)"
   ]
  },
  {
   "cell_type": "markdown",
   "id": "5890501c-262d-48ea-95ec-6815fd8151b8",
   "metadata": {},
   "source": [
    "### Create typo column\n",
    "- Almuhimedi (2013) propose an edit distance of 5"
   ]
  },
  {
   "cell_type": "code",
   "execution_count": 7,
   "id": "b655fbcc-2b91-437a-b456-cf319cd98a90",
   "metadata": {},
   "outputs": [
    {
     "name": "stdout",
     "output_type": "stream",
     "text": [
      "Rows: 10\n",
      "Columns: 17\n",
      "$ tweet_id            <chr> \"911716024331980800\", \"911716036184989696\", \"91170…\n",
      "$ createdAt           <dttm> 2017-09-24 00:16:53, 2017-09-24 00:16:56, 2017-09…\n",
      "$ possiblySensitive   <lgl> FALSE, FALSE, FALSE, FALSE, FALSE, FALSE, FALSE, F…\n",
      "$ source              <chr> \"<a href=\\\"http://twitter.com/download/android\\\" r…\n",
      "$ text                <chr> \"RT @linke_sh: Ab morgen, 8 Uhr, gilt es: @dieLink…\n",
      "$ isRetweet           <lgl> TRUE, FALSE, FALSE, FALSE, FALSE, TRUE, TRUE, TRUE…\n",
      "$ user_id             <dbl> 136266976, 136266976, 21788339, 21788339, 25816024…\n",
      "$ name                <chr> \"Lorenz Gösta Beutin\", \"Lorenz Gösta Beutin\", \"Chr…\n",
      "$ screenName          <chr> \"lgbeutin\", \"lgbeutin\", \"crmkoch\", \"crmkoch\", \"Gab…\n",
      "$ error               <chr> \"Not Found Error\", \"Not Found Error\", \"Not Found E…\n",
      "$ in_reply_to_user_id <lgl> NA, NA, NA, NA, NA, NA, NA, NA, NA, NA\n",
      "$ lead1_dist          <dbl> 58, NA, 91, NA, NA, 112, 122, 121, 117, NA\n",
      "$ lead2_dist          <dbl> NA, NA, NA, NA, NA, 115, 119, 111, NA, NA\n",
      "$ lead3_dist          <dbl> NA, NA, NA, NA, NA, 119, 113, NA, NA, NA\n",
      "$ missing             <int> 1, 1, 1, 0, 1, 1, 0, 1, 1, 1\n",
      "$ isreply             <int> 0, 0, 0, 0, 0, 0, 0, 0, 0, 0\n",
      "$ is_typo             <dbl> NA, NA, NA, 0, NA, 0, 0, NA, NA, NA\n"
     ]
    }
   ],
   "source": [
    "ddata <- cdata %>% \n",
    "    mutate(is_typo = ifelse(missing == 1 & (lead1_dist <= 5 | lead2_dist <= 5 | lead3_dist <= 5) == TRUE, 1, 0))\n",
    "\n",
    "glimpse(ddata)"
   ]
  },
  {
   "cell_type": "markdown",
   "id": "ed05c723-4f1e-44d1-aa32-24f40f58d91e",
   "metadata": {},
   "source": [
    "### Categorization of usage behaviour"
   ]
  },
  {
   "cell_type": "code",
   "execution_count": 8,
   "id": "92f9b9a7-f20c-44e8-8a4e-dd1fed0d49d2",
   "metadata": {
    "tags": []
   },
   "outputs": [
    {
     "name": "stdout",
     "output_type": "stream",
     "text": [
      "Rows: 10\n",
      "Columns: 19\n",
      "$ user_id             <dbl> 21788339, 21788339, 25816024, 36327895, 36327895, …\n",
      "$ tweet_id            <chr> \"911702953324457984\", \"911715368904691712\", \"91166…\n",
      "$ createdAt           <dttm> 2017-09-23 23:24:57, 2017-09-24 00:14:17, 2017-09…\n",
      "$ possiblySensitive   <lgl> FALSE, FALSE, FALSE, FALSE, FALSE, FALSE, FALSE, F…\n",
      "$ source              <chr> \"<a href=\\\"http://instagram.com\\\" rel=\\\"nofollow\\\"…\n",
      "$ text                <chr> \"Letzter Infostand in #Flensburg vor der #btw2017 …\n",
      "$ isRetweet           <lgl> FALSE, FALSE, FALSE, TRUE, TRUE, TRUE, TRUE, TRUE,…\n",
      "$ name                <chr> \"Christian R.M. Lucks\", \"Christian R.M. Lucks\", \"G…\n",
      "$ screenName          <chr> \"crmkoch\", \"crmkoch\", \"GabiHillerOhm\", \"SoenkeRix\"…\n",
      "$ error               <chr> \"Not Found Error\", NA, \"Not Found Error\", \"Not Fou…\n",
      "$ in_reply_to_user_id <lgl> NA, NA, NA, NA, NA, NA, NA, NA, NA, NA\n",
      "$ lead1_dist          <dbl> 91, NA, NA, 112, 122, 121, 117, NA, 58, NA\n",
      "$ lead2_dist          <dbl> NA, NA, NA, 115, 119, 111, NA, NA, NA, NA\n",
      "$ lead3_dist          <dbl> NA, NA, NA, 119, 113, NA, NA, NA, NA, NA\n",
      "$ missing             <int> 1, 0, 1, 1, 0, 1, 1, 1, 1, 1\n",
      "$ isreply             <int> 0, 0, 0, 0, 0, 0, 0, 0, 0, 0\n",
      "$ is_typo             <dbl> NA, 0, NA, 0, 0, NA, NA, NA, NA, NA\n",
      "$ usage               <chr> \"inactive_user\", \"inactive_user\", \"inactive_user\",…\n",
      "$ deletion_behaviour  <chr> \"selective_keeper\", \"selective_keeper\", \"full_dele…\n"
     ]
    }
   ],
   "source": [
    "### Usage\n",
    "usage <- ddata %>% group_by(user_id) %>% summarise(usage = case_when(n() >= 1000 ~ \"heavy_user\",\n",
    "                                                                     n() >= 100 ~ \"frequent_user\",\n",
    "                                                                     n() >= 10 ~ \"light_user\",\n",
    "                                                                     n() < 10 ~ \"inactive_user\"))\n",
    "\n",
    "### Deletions\n",
    "deletions <- ddata %>% group_by(user_id) %>% \n",
    "    summarise(deletion_behaviour = case_when(sum(missing == 1)/n() == 1 ~ \"full_deleter\",\n",
    "                                             sum(missing == 1)/n() == 0 ~ \"non_deleter\",\n",
    "                                             sum(missing == 1)/n() >= 0.75 ~ \"heavy_deleter\",\n",
    "                                             sum(missing == 1)/n() >= 0.5 ~ \"selective_keeper\",\n",
    "                                             sum(missing == 1)/n() < 0.5 ~ \"selective_deleter\"))\n",
    "\n",
    "### Merge with ddata\n",
    "tempdata <- merge(ddata, usage, by = \"user_id\")\n",
    "edata <- merge(tempdata, deletions, by = \"user_id\")\n",
    "glimpse(edata)"
   ]
  },
  {
   "cell_type": "markdown",
   "id": "0b0d88a3-0329-4927-bd12-6497addd646f",
   "metadata": {
    "tags": []
   },
   "source": [
    "### Categorization of tweets\n",
    "- Typos, hashtags, mentions, links, retweet\n",
    "- Typo if tweet was deleted and levenshtein distance for next, second next, third next is <=5"
   ]
  },
  {
   "cell_type": "code",
   "execution_count": 9,
   "id": "a65b6022-3a73-4f9e-996b-e5e4ce5546b1",
   "metadata": {
    "tags": []
   },
   "outputs": [
    {
     "name": "stdout",
     "output_type": "stream",
     "text": [
      "Rows: 10\n",
      "Columns: 23\n",
      "$ user_id             <dbl> 21788339, 21788339, 25816024, 36327895, 36327895, …\n",
      "$ tweet_id            <chr> \"911702953324457984\", \"911715368904691712\", \"91166…\n",
      "$ createdAt           <dttm> 2017-09-23 23:24:57, 2017-09-24 00:14:17, 2017-09…\n",
      "$ possiblySensitive   <lgl> FALSE, FALSE, FALSE, FALSE, FALSE, FALSE, FALSE, F…\n",
      "$ source              <chr> \"<a href=\\\"http://instagram.com\\\" rel=\\\"nofollow\\\"…\n",
      "$ text                <chr> \"Letzter Infostand in #Flensburg vor der #btw2017 …\n",
      "$ isRetweet           <lgl> FALSE, FALSE, FALSE, TRUE, TRUE, TRUE, TRUE, TRUE,…\n",
      "$ name                <chr> \"Christian R.M. Lucks\", \"Christian R.M. Lucks\", \"G…\n",
      "$ screenName          <chr> \"crmkoch\", \"crmkoch\", \"GabiHillerOhm\", \"SoenkeRix\"…\n",
      "$ error               <chr> \"Not Found Error\", NA, \"Not Found Error\", \"Not Fou…\n",
      "$ in_reply_to_user_id <lgl> NA, NA, NA, NA, NA, NA, NA, NA, NA, NA\n",
      "$ lead1_dist          <dbl> 91, NA, NA, 112, 122, 121, 117, NA, 58, NA\n",
      "$ lead2_dist          <dbl> NA, NA, NA, 115, 119, 111, NA, NA, NA, NA\n",
      "$ lead3_dist          <dbl> NA, NA, NA, 119, 113, NA, NA, NA, NA, NA\n",
      "$ missing             <int> 1, 0, 1, 1, 0, 1, 1, 1, 1, 1\n",
      "$ isreply             <int> 0, 0, 0, 0, 0, 0, 0, 0, 0, 0\n",
      "$ is_typo             <dbl> NA, 0, NA, 0, 0, NA, NA, NA, NA, NA\n",
      "$ usage               <chr> \"inactive_user\", \"inactive_user\", \"inactive_user\",…\n",
      "$ deletion_behaviour  <chr> \"selective_keeper\", \"selective_keeper\", \"full_dele…\n",
      "$ has_hashtag         <dbl> 1, 1, 0, 1, 0, 0, 1, 0, 1, 1\n",
      "$ has_mention         <dbl> 0, 0, 0, 1, 1, 1, 1, 1, 1, 1\n",
      "$ has_link            <dbl> 1, 1, 1, 0, 0, 1, 1, 1, 0, 1\n",
      "$ is_retweet          <dbl> 0, 0, 0, 1, 1, 1, 1, 1, 1, 0\n"
     ]
    }
   ],
   "source": [
    "fdata <- edata %>% mutate(is_typo = ifelse(missing == 1 & (lead1_dist <= 5 | lead2_dist <= 5 | lead3_dist <= 5) == TRUE, 1, 0),\n",
    "                          has_hashtag = ifelse(str_detect(text, \"#[a-z0-9_A-Z-]+\") == TRUE, 1, 0),\n",
    "                          has_mention = ifelse(str_detect(text, \"@([a-zA-Z0-9_-]+)\") == TRUE, 1, 0),\n",
    "                          has_link = ifelse(str_detect(text, \"https:\") == TRUE, 1, 0),\n",
    "                          is_retweet = ifelse(str_detect(text, \"RT @\") == TRUE, 1, 0),\n",
    "                         )\n",
    "glimpse(fdata)"
   ]
  },
  {
   "cell_type": "code",
   "execution_count": 10,
   "id": "3057bbfc-e682-45c5-a576-098bfb25ac60",
   "metadata": {},
   "outputs": [],
   "source": [
    "# save fdata -> Final dataframe\n",
    "saveRDS(fdata, \"data/result_df.rds\")"
   ]
  },
  {
   "cell_type": "code",
   "execution_count": null,
   "id": "edb207c1",
   "metadata": {},
   "outputs": [],
   "source": []
  }
 ],
 "metadata": {
  "kernelspec": {
   "display_name": "R",
   "language": "R",
   "name": "ir"
  },
  "language_info": {
   "codemirror_mode": "r",
   "file_extension": ".r",
   "mimetype": "text/x-r-source",
   "name": "R",
   "pygments_lexer": "r",
   "version": "3.6.1"
  }
 },
 "nbformat": 4,
 "nbformat_minor": 5
}
