{
 "cells": [
  {
   "cell_type": "markdown",
   "id": "1eb53422-f61c-4b2c-a70c-7cf2c792e730",
   "metadata": {},
   "source": [
    "# 1. Get tweets from the BTW17 collection"
   ]
  },
  {
   "cell_type": "markdown",
   "id": "3f414cd3",
   "metadata": {},
   "source": [
    "**In this step, a list of userids is used to get each user's tweets from the BTW17 mongoDB collection. Each dataframe is stored in a directory.**"
   ]
  },
  {
   "cell_type": "markdown",
   "id": "4d8a0d5f",
   "metadata": {},
   "source": [
    "## Libraries"
   ]
  },
  {
   "cell_type": "code",
   "execution_count": 6,
   "id": "b9a57f2e",
   "metadata": {
    "tags": []
   },
   "outputs": [],
   "source": [
    "library(tidyverse)\n",
    "library(mongolite)\n",
    "library(jsonlite)"
   ]
  },
  {
   "cell_type": "markdown",
   "id": "2165a4b6",
   "metadata": {},
   "source": [
    "## Parameters"
   ]
  },
  {
   "cell_type": "markdown",
   "id": "23aae119",
   "metadata": {},
   "source": [
    "### Userids, Destination folder, Timeperiod of interest"
   ]
  },
  {
   "cell_type": "code",
   "execution_count": 37,
   "id": "39223c38",
   "metadata": {},
   "outputs": [],
   "source": [
    "# store list of userids (numeric type!) here\n",
    "userlist <- \n",
    "\n",
    "# start end end-time of period of interest, String: %Y-%M-%D\n",
    "start_time <- \"2017-07-06\" #first tweet in database\n",
    "end_time <- \"2018-03-28\" #6 months after election"
   ]
  },
  {
   "cell_type": "markdown",
   "id": "2fdae297",
   "metadata": {},
   "source": [
    "### MongoDB"
   ]
  },
  {
   "cell_type": "code",
   "execution_count": 32,
   "id": "13048a96",
   "metadata": {},
   "outputs": [],
   "source": [
    "db <- \"twitter_merged\" # database\n",
    "collection <- \"politicians\" # or \"organizations\", \"selectors\" or \"politicians\"\n",
    "username <- \n",
    "password <- \n",
    "ip <- \"10.6.13.55\""
   ]
  },
  {
   "cell_type": "markdown",
   "id": "605b6330",
   "metadata": {},
   "source": [
    "## Functions"
   ]
  },
  {
   "cell_type": "markdown",
   "id": "62542ebb",
   "metadata": {},
   "source": [
    "### save_tweets_of_userid()\n",
    "- This functions pulls all the tweets attached to a Twitter user from MongoDB posted within the given period of time (start_time, end_time)\n",
    "- Each user's tweets are returned as a dataframe\n",
    "- The tweets are stored in a dataframe in the destination folder\n",
    "- If a destination folder is specified (relative path!), the dataframe gets stored there. Otherwise a default folder called \"MongoDB dataframes/\" is created"
   ]
  },
  {
   "cell_type": "code",
   "execution_count": 33,
   "id": "f1fdda4f",
   "metadata": {},
   "outputs": [],
   "source": [
    "save_tweets_of_userid <- function(userid, start_time, end_time, destination_folder = NULL){\n",
    "    \n",
    "    # destination specified -> destination is created\n",
    "    if(!is.null(destination_folder)){\n",
    "        \n",
    "        if(!dir.exists(destination_folder)){  \n",
    "            dir.create(destination_folder, recursive = TRUE)\n",
    "        }\n",
    "    \n",
    "    # otherwise a default directory is created\n",
    "    } else{\n",
    "        \n",
    "        if(!dir.exists(\"MongoDB dataframes/\")){  \n",
    "            dir.create(\"MongoDB dataframes/\", recursive = TRUE)\n",
    "        }\n",
    "        \n",
    "        destination_folder <- \"MongoDB dataframes/\"\n",
    "    }\n",
    "        \n",
    "    # connect to the database\n",
    "    m <- mongo(collection = collection, \n",
    "               url = paste0('mongodb://',username,':',password,'@',ip,'/',db))\n",
    "    \n",
    "    # create the query. First, a list with the search parameters is created\n",
    "    # and then it is transformed to json format\n",
    "    qry_json <- list(createdAt = list(\"$gte\" = list(\"$date\" = paste0(start_time, \"T00:00:00Z\")),\n",
    "                                      \"$lte\" = list(\"$date\" = paste0(end_time, \"T00:00:00Z\"))), \n",
    "                     user.id = userid\n",
    "                ) %>% \n",
    "                toJSON(pretty = F, \n",
    "                       auto_unbox = T,\n",
    "                       Date = c(\"ISO8601\"))\n",
    "    \n",
    "    # specify the required fields. All possible fields are requested from the database\n",
    "    flds_json <- list(\"_id\" = 1,\n",
    "                      user.id = 1, \n",
    "                      user.name = 1, \n",
    "                      user.screenName = 1, \n",
    "                      isRetweet = 1,\n",
    "                      createdAt = 1, \n",
    "                      text = 1, \n",
    "                      source = 1,\n",
    "                      possiblySensitive = 1\n",
    "                     ) %>%\n",
    "                toJSON(pretty = F,\n",
    "                       auto_unbox = T,\n",
    "                       Date = \"ISO8601\")\n",
    "    \n",
    "    # get the result\n",
    "    mongo_res <- m$find(\n",
    "        query = qry_json,\n",
    "        fields = flds_json\n",
    "    )\n",
    "    \n",
    "    # results are transformed to a tidy dataframe (tibble)\n",
    "    tweets_tbl <- as_tibble(mongo_res)\n",
    "    \n",
    "    # throw error if no tweets were found\n",
    "    if((nrow(tweets_tbl)) == 0){\n",
    "        \n",
    "        return(\"NO_TWEETS_FOUND\")\n",
    "        \n",
    "    } else {\n",
    "        \n",
    "        # save each DF in destination folder\n",
    "        saveRDS(tweets_tbl, file = paste0(destination_folder, userid, \".rds\"))\n",
    "        \n",
    "        return (\"SUCCESS\")\n",
    "    }\n",
    "    \n",
    "    \n",
    "}"
   ]
  },
  {
   "cell_type": "markdown",
   "id": "f5c74963",
   "metadata": {},
   "source": [
    "### save_tweets_of_userlist()\n",
    "- This function saves all the tweets for each user in a userlist using save_tweets_of_userid()\n",
    "    - If there are no tweets in the database, nothing is saved\n",
    "- The tweets of each user are stored in separate dataframes (one per user) in the destination folder\n",
    "- The name of each file is userid.RDS"
   ]
  },
  {
   "cell_type": "code",
   "execution_count": 34,
   "id": "9bc23e2a",
   "metadata": {},
   "outputs": [],
   "source": [
    "save_tweets_of_userlist <- function(userlist, start_time, end_time, destination_folder){\n",
    "    \n",
    "    # counter for null results\n",
    "    notweetsfoundcount <- 0\n",
    "    \n",
    "    # iterate through userlist and save tweets of userid\n",
    "    for(userid in userlist){\n",
    "        \n",
    "        # save_tweets_of_userid functions returns an error if no tweets were found\n",
    "        # otherwise dataframe is saved\n",
    "        error <- save_tweets_of_userid(userid, start_time, end_time, destination_folder)\n",
    "        \n",
    "        # count 1 if error is thrown\n",
    "        if(error == \"NO_TWEETS_FOUND\"){\n",
    "            notweetsfoundcount <- notweetsfoundcount +1\n",
    "        }\n",
    "        \n",
    "    }\n",
    "    \n",
    "    # print counter\n",
    "    print(paste(notweetsfoundcount, \"of\", length(userlist), \"users did not tweet/have no tweets in the database for the observed time period\"))\n",
    "    \n",
    "}"
   ]
  },
  {
   "cell_type": "markdown",
   "id": "c16a3b6a",
   "metadata": {},
   "source": [
    "## Run"
   ]
  },
  {
   "cell_type": "code",
   "execution_count": 9,
   "id": "0be953ee",
   "metadata": {},
   "outputs": [
    {
     "name": "stdout",
     "output_type": "stream",
     "text": [
      "[1] \"5 of 10 users did not tweet/have no tweets in the database for the observed time period\"\n"
     ]
    }
   ],
   "source": [
    "save_tweets_of_userlist(userlist, start_time, end_time, destination_folder = NULL)"
   ]
  }
 ],
 "metadata": {
  "kernelspec": {
   "display_name": "R",
   "language": "R",
   "name": "ir"
  },
  "language_info": {
   "codemirror_mode": "r",
   "file_extension": ".r",
   "mimetype": "text/x-r-source",
   "name": "R",
   "pygments_lexer": "r",
   "version": "3.6.1"
  }
 },
 "nbformat": 4,
 "nbformat_minor": 5
}
