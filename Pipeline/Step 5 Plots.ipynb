{
 "cells": [
  {
   "cell_type": "markdown",
   "id": "c9ca4eff-3b75-4e12-af24-30381c804642",
   "metadata": {},
   "source": [
    "# 5. Plots"
   ]
  },
  {
   "cell_type": "markdown",
   "id": "d95dee68-7fbf-46f9-9860-f983a5174efb",
   "metadata": {},
   "source": [
    "**Some plots to obtain a quick impression of the data.**"
   ]
  },
  {
   "cell_type": "markdown",
   "id": "43e028dd-d168-4173-ac6f-c8b96e0a4fe8",
   "metadata": {},
   "source": [
    "## Libraries"
   ]
  },
  {
   "cell_type": "code",
   "execution_count": null,
   "id": "71b91e92-4275-4a96-b9c9-d131de117823",
   "metadata": {},
   "outputs": [],
   "source": [
    "library(tidyverse)"
   ]
  },
  {
   "cell_type": "markdown",
   "id": "c3cfae7f-5d12-4bd0-8f9c-007235e1f9a7",
   "metadata": {},
   "source": [
    "## Load final dataframe"
   ]
  },
  {
   "cell_type": "code",
   "execution_count": null,
   "id": "61e957a9-b7a5-4bb1-91f4-fe27a3be621b",
   "metadata": {
    "tags": []
   },
   "outputs": [],
   "source": [
    "adata <- readRDS(file = \"result_df.rds\")\n",
    "glimpse(adata)"
   ]
  },
  {
   "cell_type": "markdown",
   "id": "bf662ecb-7d04-4428-b00b-b31ad2333c90",
   "metadata": {},
   "source": [
    "## Descriptives"
   ]
  },
  {
   "cell_type": "markdown",
   "id": "f30b302c-36c5-4904-955f-0b8499861465",
   "metadata": {},
   "source": [
    "### Missing tweets"
   ]
  },
  {
   "cell_type": "code",
   "execution_count": null,
   "id": "3801da27-da50-469e-b561-858d7c09e39f",
   "metadata": {
    "tags": []
   },
   "outputs": [],
   "source": [
    "users_n <- adata %>% group_by(user_id) %>% summarize(n_tweets = n())\n",
    "sum_tweets <- nrow(adata)\n",
    "sum_del <- sum(adata$missing == 1)\n",
    "\n",
    "not_found <- length(which(adata$error == \"Not Found Error\"))\n",
    "unauth <- length(which(adata$error == \"Authorization Error\"))\n",
    "\n",
    "\n",
    "errors <- adata %>% group_by(error) %>% summarise(n = n())\n",
    "errors\n",
    "\n",
    "print(paste0(\"Sum deleted: \", sum_del, \" of \", sum_tweets, \" (\", round(sum_del/sum_tweets*100, digits =2),\n",
    "            \"%)\"))\n",
    "\n",
    "print(paste0(\"Sum not found: \", not_found, \" (\", round(not_found/nrow(adata)*100, digits =2), \"%)\"))\n",
    "print(paste0(\"Sum unauthorized: \", unauth, \" (\", round(unauth/nrow(adata)*100, digits =2), \"%)\"))\n",
    "\n",
    "\n",
    "print(paste(\"Number of users:\", nrow(users_n)))"
   ]
  },
  {
   "cell_type": "markdown",
   "id": "4c77e97f-ab08-402c-94ea-77111bfcffd4",
   "metadata": {},
   "source": [
    "## Plots"
   ]
  },
  {
   "cell_type": "markdown",
   "id": "ccb06662-50f8-438e-92b5-5982403f74a8",
   "metadata": {},
   "source": [
    "### heavy tweeter"
   ]
  },
  {
   "cell_type": "code",
   "execution_count": null,
   "id": "7a072b46-97ac-48b5-a09e-8b273db5c33b",
   "metadata": {
    "tags": []
   },
   "outputs": [],
   "source": [
    "heavy_tweeter <- adata %>% \n",
    "    group_by(user_id) %>%\n",
    "    summarise(total_tweets = n()) %>% \n",
    "    arrange(desc(total_tweets)) %>%\n",
    "    slice(1:50)\n",
    "\n",
    "ht <- ggplot(data = heavy_tweeter, \n",
    "             aes(x = reorder(user_id, -total_tweets), y = total_tweets)) +\n",
    "    geom_col() +\n",
    "    theme(axis.text.x = element_text(angle = 90)) +\n",
    "    labs(x = \"user_id\", title = paste(\"N=\", nrow(heavy_tweeter)))\n",
    "\n",
    "ht"
   ]
  },
  {
   "cell_type": "markdown",
   "id": "18dbdb29-4aae-49d6-b945-69a625add2d7",
   "metadata": {},
   "source": [
    "### heavy deleter (absolute)"
   ]
  },
  {
   "cell_type": "code",
   "execution_count": null,
   "id": "58a0ca8b-4340-4486-9dba-3d72e8039399",
   "metadata": {
    "tags": []
   },
   "outputs": [],
   "source": [
    "heavy_del_abs <- adata %>% \n",
    "    group_by(user_id) %>%\n",
    "    summarise(deleted_tweets = sum(missing == 1)) %>% \n",
    "    arrange(desc(deleted_tweets)) %>%\n",
    "    slice(1:50)\n",
    "\n",
    "ht <- ggplot(data = heavy_del_abs, \n",
    "             aes(x = reorder(user_id, -deleted_tweets), y = deleted_tweets)) +\n",
    "    geom_col() +\n",
    "    theme(axis.text.x = element_text(angle = 90)) +\n",
    "    labs(x = \"user_id\", title = paste(\"N =\", nrow(heavy_del_abs)))\n",
    "\n",
    "ht"
   ]
  },
  {
   "cell_type": "markdown",
   "id": "70671181-a56d-4e74-bb53-6858e4f35d9b",
   "metadata": {},
   "source": [
    "### heavy deleter (relative)"
   ]
  },
  {
   "cell_type": "code",
   "execution_count": null,
   "id": "36f8abf6-2177-4026-bbfd-dfb22d6adc96",
   "metadata": {},
   "outputs": [],
   "source": [
    "heavy_del_rel <- adata %>% \n",
    "    group_by(user_id) %>%\n",
    "    summarise(total_tweets = n(),\n",
    "              deleted_tweets = sum(missing == 1)) %>% \n",
    "    mutate(percent_deleted = round((deleted_tweets/total_tweets)*100, digits = 2)) %>%\n",
    "    arrange(desc(percent_deleted)) %>%\n",
    "    slice()\n",
    "\n",
    "ht <- ggplot(data = heavy_del_rel, \n",
    "             aes(x = reorder(user_id, -percent_deleted), y = percent_deleted)) +\n",
    "    geom_col() +\n",
    "    theme(axis.text.x = element_text(angle = 90)) +\n",
    "    labs(x = \"user_id\", title = paste(\"N =\", nrow(heavy_del_rel)))\n",
    "\n",
    "ht"
   ]
  },
  {
   "cell_type": "markdown",
   "id": "44dd6df0-b5e8-4da9-bb75-895cf386b8c6",
   "metadata": {},
   "source": [
    "## Timeline"
   ]
  },
  {
   "cell_type": "markdown",
   "id": "9a34b666-fc29-4b68-ad81-96703937ee0a",
   "metadata": {},
   "source": [
    "### 1. All users"
   ]
  },
  {
   "cell_type": "code",
   "execution_count": null,
   "id": "1b2905ab-f122-4882-a418-85f7793be171",
   "metadata": {},
   "outputs": [],
   "source": [
    "del_timeline <- adata %>%\n",
    "    mutate(date = lubridate::as_date(createdAt)) %>%\n",
    "    group_by(date) %>% \n",
    "    summarise(percent_deleted = round(mean(missing == 1), digits=2))\n",
    " \n",
    "del_t <- ggplot(data = del_timeline,\n",
    "                aes(x = date, y = percent_deleted)) +\n",
    "                geom_smooth(span = 0.1, colour = \"red\") +\n",
    "                geom_area(color=\"black\", fill = \"grey\", alpha = 0) +\n",
    "                labs(title = \"All users\")\n",
    "        \n",
    "del_t"
   ]
  },
  {
   "cell_type": "markdown",
   "id": "0d4264ab-ba70-44e3-bf95-8fadca8c7d11",
   "metadata": {},
   "source": [
    "### 2. Include selective deleters, exclude inactive users\n",
    "- Selective deleters: percentage deleted tweets < 50%\n",
    "- Inactive users: numer of tweets <= 10)\n",
    "- Line gets smoother"
   ]
  },
  {
   "cell_type": "code",
   "execution_count": null,
   "id": "2eda91f3-033d-4426-8e4e-31c5bc99355f",
   "metadata": {},
   "outputs": [],
   "source": [
    "del_timeline <- adata %>% \n",
    "    dplyr::filter(usage != \"inactive_user\") %>%\n",
    "    dplyr::filter(deletion_behaviour == \"selective_deleter\") %>%\n",
    "    mutate(date = lubridate::as_date(createdAt)) %>%\n",
    "    group_by(date) %>%\n",
    "    summarise(percent_deleted = round(mean(missing == 1), digits=3))\n",
    "\n",
    "del_t <- ggplot(data = del_timeline,\n",
    "                aes(x = date, y = percent_deleted)) +\n",
    "                geom_smooth(span = 0.1, colour = \"red\") +\n",
    "                geom_area(color=\"black\", fill = \"grey\", alpha = 0) +\n",
    "                labs(title = \"Selective deleters (% deleted tweets < 50%)\")\n",
    "        \n",
    "del_t"
   ]
  },
  {
   "cell_type": "markdown",
   "id": "a4755a30-6a3c-4030-adca-73c322afe791",
   "metadata": {},
   "source": [
    "### 3. Include selective keepers, exclude inactive users\n",
    "- Selective keepers: percentage of deleted tweets > 50%\n",
    "- Inactive users: numer of tweets <= 10)\n",
    "- Larger peaks"
   ]
  },
  {
   "cell_type": "code",
   "execution_count": null,
   "id": "d5d73b7c-0bbe-4fb4-be4c-1e41db5693bf",
   "metadata": {
    "tags": []
   },
   "outputs": [],
   "source": [
    "del_timeline <- adata %>% \n",
    "    dplyr::filter(usage != \"inactive_user\") %>%\n",
    "    dplyr::filter(deletion_behaviour == \"selective_keeper\") %>%\n",
    "    #table(del_timeline$screen_name) # about 45 accounts only\n",
    "    mutate(date = lubridate::as_date(createdAt)) %>%\n",
    "    group_by(date) %>%\n",
    "    summarise(percent_deleted = round(mean(missing == 1), digits=3))\n",
    "\n",
    "\n",
    "del_t <- ggplot(data = del_timeline,\n",
    "                aes(x = date, y = percent_deleted)) +\n",
    "                geom_smooth(span = 0.1, colour = \"red\") +\n",
    "                geom_area(color=\"black\", fill = \"grey\", alpha = 0) +\n",
    "                labs(title = \"Selective keepers (% deleted tweets > 50%)\")\n",
    "        \n",
    "del_t"
   ]
  }
 ],
 "metadata": {
  "kernelspec": {
   "display_name": "R",
   "language": "R",
   "name": "ir"
  },
  "language_info": {
   "codemirror_mode": "r",
   "file_extension": ".r",
   "mimetype": "text/x-r-source",
   "name": "R",
   "pygments_lexer": "r",
   "version": "3.6.1"
  }
 },
 "nbformat": 4,
 "nbformat_minor": 5
}
