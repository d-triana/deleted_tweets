{
 "cells": [
  {
   "cell_type": "markdown",
   "id": "c9ca4eff-3b75-4e12-af24-30381c804642",
   "metadata": {},
   "source": [
    "# 5. Plots"
   ]
  },
  {
   "cell_type": "markdown",
   "id": "d95dee68-7fbf-46f9-9860-f983a5174efb",
   "metadata": {},
   "source": [
    "**Some plots to obtain a quick impression of the data.**"
   ]
  },
  {
   "cell_type": "markdown",
   "id": "43e028dd-d168-4173-ac6f-c8b96e0a4fe8",
   "metadata": {},
   "source": [
    "## Libraries"
   ]
  },
  {
   "cell_type": "code",
   "execution_count": 1,
   "id": "71b91e92-4275-4a96-b9c9-d131de117823",
   "metadata": {},
   "outputs": [
    {
     "name": "stderr",
     "output_type": "stream",
     "text": [
      "── Attaching packages ───────────────────────────────────────────────────────────────────────── tidyverse 1.3.1 ──\n",
      "✔ ggplot2 3.3.5     ✔ purrr   0.3.4\n",
      "✔ tibble  3.1.6     ✔ dplyr   1.0.8\n",
      "✔ tidyr   1.2.0     ✔ stringr 1.4.0\n",
      "✔ readr   2.1.2     ✔ forcats 0.5.1\n",
      "── Conflicts ──────────────────────────────────────────────────────────────────────────── tidyverse_conflicts() ──\n",
      "✖ dplyr::filter() masks stats::filter()\n",
      "✖ dplyr::lag()    masks stats::lag()\n"
     ]
    }
   ],
   "source": [
    "library(tidyverse)"
   ]
  },
  {
   "cell_type": "markdown",
   "id": "c3cfae7f-5d12-4bd0-8f9c-007235e1f9a7",
   "metadata": {},
   "source": [
    "## Load final dataframe"
   ]
  },
  {
   "cell_type": "code",
   "execution_count": 2,
   "id": "61e957a9-b7a5-4bb1-91f4-fe27a3be621b",
   "metadata": {
    "tags": []
   },
   "outputs": [
    {
     "name": "stdout",
     "output_type": "stream",
     "text": [
      "Rows: 10\n",
      "Columns: 23\n",
      "$ user_id             <dbl> 21788339, 21788339, 25816024, 36327895, 36327895, …\n",
      "$ tweet_id            <chr> \"911702953324457984\", \"911715368904691712\", \"91166…\n",
      "$ createdAt           <dttm> 2017-09-23 23:24:57, 2017-09-24 00:14:17, 2017-09…\n",
      "$ possiblySensitive   <lgl> FALSE, FALSE, FALSE, FALSE, FALSE, FALSE, FALSE, F…\n",
      "$ source              <chr> \"<a href=\\\"http://instagram.com\\\" rel=\\\"nofollow\\\"…\n",
      "$ text                <chr> \"Letzter Infostand in #Flensburg vor der #btw2017 …\n",
      "$ isRetweet           <lgl> FALSE, FALSE, FALSE, TRUE, TRUE, TRUE, TRUE, TRUE,…\n",
      "$ name                <chr> \"Christian R.M. Lucks\", \"Christian R.M. Lucks\", \"G…\n",
      "$ screenName          <chr> \"crmkoch\", \"crmkoch\", \"GabiHillerOhm\", \"SoenkeRix\"…\n",
      "$ error               <chr> \"Not Found Error\", NA, \"Not Found Error\", \"Not Fou…\n",
      "$ in_reply_to_user_id <lgl> NA, NA, NA, NA, NA, NA, NA, NA, NA, NA\n",
      "$ lead1_dist          <dbl> 91, NA, NA, 112, 122, 121, 117, NA, 58, NA\n",
      "$ lead2_dist          <dbl> NA, NA, NA, 115, 119, 111, NA, NA, NA, NA\n",
      "$ lead3_dist          <dbl> NA, NA, NA, 119, 113, NA, NA, NA, NA, NA\n",
      "$ missing             <int> 1, 0, 1, 1, 0, 1, 1, 1, 1, 1\n",
      "$ isreply             <int> 0, 0, 0, 0, 0, 0, 0, 0, 0, 0\n",
      "$ is_typo             <dbl> NA, 0, NA, 0, 0, NA, NA, NA, NA, NA\n",
      "$ usage               <chr> \"inactive_user\", \"inactive_user\", \"inactive_user\",…\n",
      "$ deletion_behaviour  <chr> \"selective_keeper\", \"selective_keeper\", \"full_dele…\n",
      "$ has_hashtag         <dbl> 1, 1, 0, 1, 0, 0, 1, 0, 1, 1\n",
      "$ has_mention         <dbl> 0, 0, 0, 1, 1, 1, 1, 1, 1, 1\n",
      "$ has_link            <dbl> 1, 1, 1, 0, 0, 1, 1, 1, 0, 1\n",
      "$ is_retweet          <dbl> 0, 0, 0, 1, 1, 1, 1, 1, 1, 0\n"
     ]
    }
   ],
   "source": [
    "adata <- readRDS(file = \"data/result_df.rds\")\n",
    "glimpse(adata)"
   ]
  },
  {
   "cell_type": "markdown",
   "id": "bf662ecb-7d04-4428-b00b-b31ad2333c90",
   "metadata": {},
   "source": [
    "## Descriptives"
   ]
  },
  {
   "cell_type": "markdown",
   "id": "f30b302c-36c5-4904-955f-0b8499861465",
   "metadata": {},
   "source": [
    "### Missing tweets"
   ]
  },
  {
   "cell_type": "code",
   "execution_count": 3,
   "id": "3801da27-da50-469e-b561-858d7c09e39f",
   "metadata": {
    "tags": []
   },
   "outputs": [
    {
     "data": {
      "text/html": [
       "<table>\n",
       "<thead><tr><th scope=col>error</th><th scope=col>n</th></tr></thead>\n",
       "<tbody>\n",
       "\t<tr><td>Not Found Error</td><td>8              </td></tr>\n",
       "\t<tr><td>NA             </td><td>2              </td></tr>\n",
       "</tbody>\n",
       "</table>\n"
      ],
      "text/latex": [
       "\\begin{tabular}{r|ll}\n",
       " error & n\\\\\n",
       "\\hline\n",
       "\t Not Found Error & 8              \\\\\n",
       "\t NA              & 2              \\\\\n",
       "\\end{tabular}\n"
      ],
      "text/markdown": [
       "\n",
       "| error | n |\n",
       "|---|---|\n",
       "| Not Found Error | 8               |\n",
       "| NA              | 2               |\n",
       "\n"
      ],
      "text/plain": [
       "  error           n\n",
       "1 Not Found Error 8\n",
       "2 NA              2"
      ]
     },
     "metadata": {},
     "output_type": "display_data"
    },
    {
     "name": "stdout",
     "output_type": "stream",
     "text": [
      "[1] \"Sum deleted: 8 of 10 (80%)\"\n",
      "[1] \"Sum not found: 8 (80%)\"\n",
      "[1] \"Sum unauthorized: 0 (0%)\"\n",
      "[1] \"Number of users: 4\"\n"
     ]
    }
   ],
   "source": [
    "users_n <- adata %>% group_by(user_id) %>% summarize(n_tweets = n())\n",
    "sum_tweets <- nrow(adata)\n",
    "sum_del <- sum(adata$missing == 1)\n",
    "\n",
    "not_found <- length(which(adata$error == \"Not Found Error\"))\n",
    "unauth <- length(which(adata$error == \"Authorization Error\"))\n",
    "\n",
    "\n",
    "errors <- adata %>% group_by(error) %>% summarise(n = n())\n",
    "errors\n",
    "\n",
    "print(paste0(\"Sum deleted: \", sum_del, \" of \", sum_tweets, \" (\", round(sum_del/sum_tweets*100, digits =2),\n",
    "            \"%)\"))\n",
    "\n",
    "print(paste0(\"Sum not found: \", not_found, \" (\", round(not_found/nrow(adata)*100, digits =2), \"%)\"))\n",
    "print(paste0(\"Sum unauthorized: \", unauth, \" (\", round(unauth/nrow(adata)*100, digits =2), \"%)\"))\n",
    "\n",
    "\n",
    "print(paste(\"Number of users:\", nrow(users_n)))"
   ]
  },
  {
   "cell_type": "markdown",
   "id": "4c77e97f-ab08-402c-94ea-77111bfcffd4",
   "metadata": {},
   "source": [
    "## Plots"
   ]
  },
  {
   "cell_type": "markdown",
   "id": "ccb06662-50f8-438e-92b5-5982403f74a8",
   "metadata": {},
   "source": [
    "### heavy tweeter"
   ]
  },
  {
   "cell_type": "code",
   "execution_count": 4,
   "id": "7a072b46-97ac-48b5-a09e-8b273db5c33b",
   "metadata": {
    "tags": []
   },
   "outputs": [
    {
     "data": {
      "image/png": "[encoded data removed]",
      "text/plain": [
       "plot without title"
      ]
     },
     "metadata": {},
     "output_type": "display_data"
    }
   ],
   "source": [
    "heavy_tweeter <- adata %>% \n",
    "    group_by(user_id) %>%\n",
    "    summarise(total_tweets = n()) %>% \n",
    "    arrange(desc(total_tweets)) %>%\n",
    "    slice(1:50)\n",
    "\n",
    "ht <- ggplot(data = heavy_tweeter, \n",
    "             aes(x = reorder(user_id, -total_tweets), y = total_tweets)) +\n",
    "    geom_col() +\n",
    "    theme(axis.text.x = element_text(angle = 90)) +\n",
    "    labs(x = \"user_id\", title = paste(\"N=\", nrow(heavy_tweeter)))\n",
    "\n",
    "ht"
   ]
  },
  {
   "cell_type": "markdown",
   "id": "18dbdb29-4aae-49d6-b945-69a625add2d7",
   "metadata": {},
   "source": [
    "### heavy deleter (absolute)"
   ]
  },
  {
   "cell_type": "code",
   "execution_count": 5,
   "id": "58a0ca8b-4340-4486-9dba-3d72e8039399",
   "metadata": {
    "tags": []
   },
   "outputs": [
    {
     "data": {
      "image/png": "[encoded data removed]",
      "text/plain": [
       "plot without title"
      ]
     },
     "metadata": {},
     "output_type": "display_data"
    }
   ],
   "source": [
    "heavy_del_abs <- adata %>% \n",
    "    group_by(user_id) %>%\n",
    "    summarise(deleted_tweets = sum(missing == 1)) %>% \n",
    "    arrange(desc(deleted_tweets)) %>%\n",
    "    slice(1:50)\n",
    "\n",
    "ht <- ggplot(data = heavy_del_abs, \n",
    "             aes(x = reorder(user_id, -deleted_tweets), y = deleted_tweets)) +\n",
    "    geom_col() +\n",
    "    theme(axis.text.x = element_text(angle = 90)) +\n",
    "    labs(x = \"user_id\", title = paste(\"N =\", nrow(heavy_del_abs)))\n",
    "\n",
    "ht"
   ]
  },
  {
   "cell_type": "markdown",
   "id": "70671181-a56d-4e74-bb53-6858e4f35d9b",
   "metadata": {},
   "source": [
    "### heavy deleter (relative)"
   ]
  },
  {
   "cell_type": "code",
   "execution_count": 6,
   "id": "36f8abf6-2177-4026-bbfd-dfb22d6adc96",
   "metadata": {},
   "outputs": [
    {
     "data": {
      "image/png": "[encoded data removed]",
      "text/plain": [
       "plot without title"
      ]
     },
     "metadata": {},
     "output_type": "display_data"
    }
   ],
   "source": [
    "heavy_del_rel <- adata %>% \n",
    "    group_by(user_id) %>%\n",
    "    summarise(total_tweets = n(),\n",
    "              deleted_tweets = sum(missing == 1)) %>% \n",
    "    mutate(percent_deleted = round((deleted_tweets/total_tweets)*100, digits = 2)) %>%\n",
    "    arrange(desc(percent_deleted)) %>%\n",
    "    slice()\n",
    "\n",
    "ht <- ggplot(data = heavy_del_rel, \n",
    "             aes(x = reorder(user_id, -percent_deleted), y = percent_deleted)) +\n",
    "    geom_col() +\n",
    "    theme(axis.text.x = element_text(angle = 90)) +\n",
    "    labs(x = \"user_id\", title = paste(\"N =\", nrow(heavy_del_rel)))\n",
    "\n",
    "ht"
   ]
  },
  {
   "cell_type": "markdown",
   "id": "44dd6df0-b5e8-4da9-bb75-895cf386b8c6",
   "metadata": {},
   "source": [
    "## Timeline"
   ]
  },
  {
   "cell_type": "markdown",
   "id": "9a34b666-fc29-4b68-ad81-96703937ee0a",
   "metadata": {},
   "source": [
    "### 1. All users"
   ]
  },
  {
   "cell_type": "code",
   "execution_count": 7,
   "id": "1b2905ab-f122-4882-a418-85f7793be171",
   "metadata": {},
   "outputs": [
    {
     "name": "stderr",
     "output_type": "stream",
     "text": [
      "`geom_smooth()` using method = 'loess' and formula 'y ~ x'\n",
      "Warning message:\n",
      "“Computation failed in `stat_smooth()`:\n",
      "span is too small”"
     ]
    },
    {
     "data": {
      "image/png": "[encoded data removed]",
      "text/plain": [
       "plot without title"
      ]
     },
     "metadata": {},
     "output_type": "display_data"
    }
   ],
   "source": [
    "del_timeline <- adata %>%\n",
    "    mutate(date = lubridate::as_date(createdAt)) %>%\n",
    "    group_by(date) %>% \n",
    "    summarise(percent_deleted = round(mean(missing == 1), digits=2))\n",
    " \n",
    "del_t <- ggplot(data = del_timeline,\n",
    "                aes(x = date, y = percent_deleted)) +\n",
    "                geom_smooth(span = 0.1, colour = \"red\") +\n",
    "                geom_area(color=\"black\", fill = \"grey\", alpha = 0) +\n",
    "                labs(title = \"All users\")\n",
    "        \n",
    "del_t"
   ]
  },
  {
   "cell_type": "markdown",
   "id": "0d4264ab-ba70-44e3-bf95-8fadca8c7d11",
   "metadata": {},
   "source": [
    "### 2. Include selective deleters, exclude inactive users\n",
    "- Selective deleters: percentage deleted tweets < 50%\n",
    "- Inactive users: numer of tweets <= 10)\n",
    "- Line gets smoother"
   ]
  },
  {
   "cell_type": "code",
   "execution_count": 8,
   "id": "2eda91f3-033d-4426-8e4e-31c5bc99355f",
   "metadata": {},
   "outputs": [
    {
     "data": {
      "image/png": "[encoded data removed]",
      "text/plain": [
       "plot without title"
      ]
     },
     "metadata": {},
     "output_type": "display_data"
    }
   ],
   "source": [
    "del_timeline <- adata %>% \n",
    "    dplyr::filter(usage != \"inactive_user\") %>%\n",
    "    dplyr::filter(deletion_behaviour == \"selective_deleter\") %>%\n",
    "    mutate(date = lubridate::as_date(createdAt)) %>%\n",
    "    group_by(date) %>%\n",
    "    summarise(percent_deleted = round(mean(missing == 1), digits=3))\n",
    "\n",
    "del_t <- ggplot(data = del_timeline,\n",
    "                aes(x = date, y = percent_deleted)) +\n",
    "                geom_smooth(span = 0.1, colour = \"red\") +\n",
    "                geom_area(color=\"black\", fill = \"grey\", alpha = 0) +\n",
    "                labs(title = \"Selective deleters (% deleted tweets < 50%)\")\n",
    "        \n",
    "del_t"
   ]
  },
  {
   "cell_type": "markdown",
   "id": "a4755a30-6a3c-4030-adca-73c322afe791",
   "metadata": {},
   "source": [
    "### 3. Include selective keepers, exclude inactive users\n",
    "- Selective keepers: percentage of deleted tweets > 50%\n",
    "- Inactive users: numer of tweets <= 10)\n",
    "- Larger peaks"
   ]
  },
  {
   "cell_type": "code",
   "execution_count": 9,
   "id": "d5d73b7c-0bbe-4fb4-be4c-1e41db5693bf",
   "metadata": {
    "tags": []
   },
   "outputs": [
    {
     "data": {
      "image/png": "[encoded data removed]",
      "text/plain": [
       "plot without title"
      ]
     },
     "metadata": {},
     "output_type": "display_data"
    }
   ],
   "source": [
    "del_timeline <- adata %>% \n",
    "    dplyr::filter(usage != \"inactive_user\") %>%\n",
    "    dplyr::filter(deletion_behaviour == \"selective_keeper\") %>%\n",
    "    #table(del_timeline$screen_name) # about 45 accounts only\n",
    "    mutate(date = lubridate::as_date(createdAt)) %>%\n",
    "    group_by(date) %>%\n",
    "    summarise(percent_deleted = round(mean(missing == 1), digits=3))\n",
    "\n",
    "\n",
    "del_t <- ggplot(data = del_timeline,\n",
    "                aes(x = date, y = percent_deleted)) +\n",
    "                geom_smooth(span = 0.1, colour = \"red\") +\n",
    "                geom_area(color=\"black\", fill = \"grey\", alpha = 0) +\n",
    "                labs(title = \"Selective keepers (% deleted tweets > 50%)\")\n",
    "        \n",
    "del_t"
   ]
  }
 ],
 "metadata": {
  "kernelspec": {
   "display_name": "R",
   "language": "R",
   "name": "ir"
  },
  "language_info": {
   "codemirror_mode": "r",
   "file_extension": ".r",
   "mimetype": "text/x-r-source",
   "name": "R",
   "pygments_lexer": "r",
   "version": "3.6.1"
  }
 },
 "nbformat": 4,
 "nbformat_minor": 5
}
